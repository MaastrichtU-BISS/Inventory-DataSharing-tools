{
 "cells": [
  {
   "cell_type": "code",
   "execution_count": 27,
   "metadata": {},
   "outputs": [
    {
     "data": {
      "text/html": [
       "<div>\n",
       "<style scoped>\n",
       "    .dataframe tbody tr th:only-of-type {\n",
       "        vertical-align: middle;\n",
       "    }\n",
       "\n",
       "    .dataframe tbody tr th {\n",
       "        vertical-align: top;\n",
       "    }\n",
       "\n",
       "    .dataframe thead th {\n",
       "        text-align: right;\n",
       "    }\n",
       "</style>\n",
       "<table border=\"1\" class=\"dataframe\">\n",
       "  <thead>\n",
       "    <tr style=\"text-align: right;\">\n",
       "      <th></th>\n",
       "      <th>DOI</th>\n",
       "      <th>Titles</th>\n",
       "      <th>Authors</th>\n",
       "      <th>Keywords</th>\n",
       "      <th>User scenario</th>\n",
       "      <th>Distributed Data scenario</th>\n",
       "      <th>Privacy/Security</th>\n",
       "      <th>Privacy Statement</th>\n",
       "      <th>PP Method Category</th>\n",
       "      <th>PP Specific Methods</th>\n",
       "      <th>Problem</th>\n",
       "      <th>ML Method</th>\n",
       "      <th>Data</th>\n",
       "      <th>Accuracy</th>\n",
       "      <th>Efficiency</th>\n",
       "      <th>Scalability</th>\n",
       "    </tr>\n",
       "  </thead>\n",
       "  <tbody>\n",
       "    <tr>\n",
       "      <th>0</th>\n",
       "      <td>http://doi.org/10.1109/ICDMW.2007.114</td>\n",
       "      <td>Secure Logistic Regression of Horizontally and...</td>\n",
       "      <td>A. B. Slavkovic; Y. Nardi; M. M. Tibbits</td>\n",
       "      <td>/</td>\n",
       "      <td>semi-honest</td>\n",
       "      <td>horizontally/vertically</td>\n",
       "      <td>Very brief statement</td>\n",
       "      <td>not combine databases/confidentality/no simple...</td>\n",
       "      <td>SMC(Generic construction)</td>\n",
       "      <td>statistical disclosure limitation/secure multi...</td>\n",
       "      <td>regression</td>\n",
       "      <td>(binary) logistic Regression</td>\n",
       "      <td>no experiment</td>\n",
       "      <td>no experiment</td>\n",
       "      <td>computation cost</td>\n",
       "      <td>/</td>\n",
       "    </tr>\n",
       "    <tr>\n",
       "      <th>1</th>\n",
       "      <td>https://www.ncbi.nlm.nih.gov/pubmed/23304414</td>\n",
       "      <td>A collaborative framework for Distributed Priv...</td>\n",
       "      <td>Que J, Jiang X, Ohno-Machado L</td>\n",
       "      <td>/</td>\n",
       "      <td>/</td>\n",
       "      <td>vertically</td>\n",
       "      <td>Very brief statement</td>\n",
       "      <td>no disclosure of local data to others</td>\n",
       "      <td>SMC(Generic construction)</td>\n",
       "      <td>secure sum operation/noise addition/cryptograp...</td>\n",
       "      <td>classification</td>\n",
       "      <td>SVM</td>\n",
       "      <td>public: UCI-tic_tac_toe-958-27-numercial/real-...</td>\n",
       "      <td>compare with centralized</td>\n",
       "      <td>time cost</td>\n",
       "      <td>/</td>\n",
       "    </tr>\n",
       "    <tr>\n",
       "      <th>2</th>\n",
       "      <td>http://doi.org/10.1155/2015/729072</td>\n",
       "      <td>A Collaborative Framework for Privacy Preservi...</td>\n",
       "      <td>Honda Katsuhiro, OdaToshiya, Tanaka Daiji, Not...</td>\n",
       "      <td>/</td>\n",
       "      <td>/</td>\n",
       "      <td>vertically</td>\n",
       "      <td>Very brief statement</td>\n",
       "      <td>no publishing each element of independent data...</td>\n",
       "      <td>SMC(Building blocks)</td>\n",
       "      <td>encryption operation(vague)</td>\n",
       "      <td>clustering</td>\n",
       "      <td>k-means fuzzy co-clustering</td>\n",
       "      <td>public: Homogeneous Cluster Partition-100-90-n...</td>\n",
       "      <td>compare with centralized</td>\n",
       "      <td>no measurement</td>\n",
       "      <td>/</td>\n",
       "    </tr>\n",
       "    <tr>\n",
       "      <th>3</th>\n",
       "      <td>http://doi.org/10.1007/s10115-008-0167-x</td>\n",
       "      <td>A Distributed Approach to Enabling Privacy-pre...</td>\n",
       "      <td>Hangzai Luo and Jianping Fan and Xiaodong Lin ...</td>\n",
       "      <td>Privacy-preserving classifier training/Synthet...</td>\n",
       "      <td>malicious/semi-honest</td>\n",
       "      <td>/</td>\n",
       "      <td>Very brief statement</td>\n",
       "      <td>customizable privacy modeling and protection/c...</td>\n",
       "      <td>local2center</td>\n",
       "      <td>local2center</td>\n",
       "      <td>classification</td>\n",
       "      <td>Maximum likelihood</td>\n",
       "      <td>public: UCI-letter-20000-16(26)-image/UCI-pen-...</td>\n",
       "      <td>compare with others</td>\n",
       "      <td>data transmission cost</td>\n",
       "      <td>/</td>\n",
       "    </tr>\n",
       "    <tr>\n",
       "      <th>4</th>\n",
       "      <td>http://doi.org/10.1007/978-3-540-88192-6_17</td>\n",
       "      <td>A Distributed Privacy-Preserving Association R...</td>\n",
       "      <td>Chunhua Su and Kouichi Sakurai</td>\n",
       "      <td>association rules/privacy-preserving/cryptogra...</td>\n",
       "      <td>malicious/semi-honest/third party</td>\n",
       "      <td>horizontally</td>\n",
       "      <td>Very brief statement</td>\n",
       "      <td>no revealing the private information of databa...</td>\n",
       "      <td>SMC(Building blocks)</td>\n",
       "      <td>attribute-based encryption/homomorphic encryption</td>\n",
       "      <td>association rules mining</td>\n",
       "      <td>frequent-pattern tree (FP-tree) structure</td>\n",
       "      <td>no experiment</td>\n",
       "      <td>no experiment</td>\n",
       "      <td>(weak proof) communication cost</td>\n",
       "      <td>/</td>\n",
       "    </tr>\n",
       "  </tbody>\n",
       "</table>\n",
       "</div>"
      ],
      "text/plain": [
       "                                            DOI  \\\n",
       "0         http://doi.org/10.1109/ICDMW.2007.114   \n",
       "1  https://www.ncbi.nlm.nih.gov/pubmed/23304414   \n",
       "2            http://doi.org/10.1155/2015/729072   \n",
       "3      http://doi.org/10.1007/s10115-008-0167-x   \n",
       "4   http://doi.org/10.1007/978-3-540-88192-6_17   \n",
       "\n",
       "                                              Titles  \\\n",
       "0  Secure Logistic Regression of Horizontally and...   \n",
       "1  A collaborative framework for Distributed Priv...   \n",
       "2  A Collaborative Framework for Privacy Preservi...   \n",
       "3  A Distributed Approach to Enabling Privacy-pre...   \n",
       "4  A Distributed Privacy-Preserving Association R...   \n",
       "\n",
       "                                             Authors  \\\n",
       "0           A. B. Slavkovic; Y. Nardi; M. M. Tibbits   \n",
       "1                     Que J, Jiang X, Ohno-Machado L   \n",
       "2  Honda Katsuhiro, OdaToshiya, Tanaka Daiji, Not...   \n",
       "3  Hangzai Luo and Jianping Fan and Xiaodong Lin ...   \n",
       "4                     Chunhua Su and Kouichi Sakurai   \n",
       "\n",
       "                                            Keywords  \\\n",
       "0                                                  /   \n",
       "1                                                  /   \n",
       "2                                                  /   \n",
       "3  Privacy-preserving classifier training/Synthet...   \n",
       "4  association rules/privacy-preserving/cryptogra...   \n",
       "\n",
       "                       User scenario Distributed Data scenario  \\\n",
       "0                        semi-honest   horizontally/vertically   \n",
       "1                                  /                vertically   \n",
       "2                                  /                vertically   \n",
       "3              malicious/semi-honest                         /   \n",
       "4  malicious/semi-honest/third party              horizontally   \n",
       "\n",
       "       Privacy/Security                                  Privacy Statement  \\\n",
       "0  Very brief statement  not combine databases/confidentality/no simple...   \n",
       "1  Very brief statement              no disclosure of local data to others   \n",
       "2  Very brief statement  no publishing each element of independent data...   \n",
       "3  Very brief statement  customizable privacy modeling and protection/c...   \n",
       "4  Very brief statement  no revealing the private information of databa...   \n",
       "\n",
       "          PP Method Category  \\\n",
       "0  SMC(Generic construction)   \n",
       "1  SMC(Generic construction)   \n",
       "2       SMC(Building blocks)   \n",
       "3               local2center   \n",
       "4       SMC(Building blocks)   \n",
       "\n",
       "                                 PP Specific Methods  \\\n",
       "0  statistical disclosure limitation/secure multi...   \n",
       "1  secure sum operation/noise addition/cryptograp...   \n",
       "2                        encryption operation(vague)   \n",
       "3                                       local2center   \n",
       "4  attribute-based encryption/homomorphic encryption   \n",
       "\n",
       "                    Problem                                  ML Method  \\\n",
       "0                regression               (binary) logistic Regression   \n",
       "1            classification                                        SVM   \n",
       "2                clustering                k-means fuzzy co-clustering   \n",
       "3            classification                         Maximum likelihood   \n",
       "4  association rules mining  frequent-pattern tree (FP-tree) structure   \n",
       "\n",
       "                                                Data  \\\n",
       "0                                      no experiment   \n",
       "1  public: UCI-tic_tac_toe-958-27-numercial/real-...   \n",
       "2  public: Homogeneous Cluster Partition-100-90-n...   \n",
       "3  public: UCI-letter-20000-16(26)-image/UCI-pen-...   \n",
       "4                                      no experiment   \n",
       "\n",
       "                   Accuracy                       Efficiency Scalability  \n",
       "0             no experiment                 computation cost           /  \n",
       "1  compare with centralized                        time cost           /  \n",
       "2  compare with centralized                   no measurement           /  \n",
       "3       compare with others           data transmission cost           /  \n",
       "4             no experiment  (weak proof) communication cost           /  "
      ]
     },
     "execution_count": 27,
     "metadata": {},
     "output_type": "execute_result"
    }
   ],
   "source": [
    "import yaml\n",
    "import pandas\n",
    "\n",
    "config = [ ]\n",
    "with open(\"config.yaml\") as f:\n",
    "    config = yaml.safe_load(f)\n",
    "\n",
    "df = pandas.read_csv(config[\"source\"], sep=\";\")\n",
    "df.head()"
   ]
  },
  {
   "cell_type": "code",
   "execution_count": 28,
   "metadata": {},
   "outputs": [
    {
     "data": {
      "text/plain": [
       "vertically                             77\n",
       "horizontally                           70\n",
       "/                                      46\n",
       "horizontally/vertically                29\n",
       "arbitrarily/horizontally/vertically     6\n",
       "arbitrarily                             3\n",
       "Name: Distributed Data scenario, dtype: int64"
      ]
     },
     "execution_count": 28,
     "metadata": {},
     "output_type": "execute_result"
    }
   ],
   "source": [
    "df['Distributed Data scenario'].value_counts()"
   ]
  },
  {
   "cell_type": "code",
   "execution_count": 29,
   "metadata": {},
   "outputs": [
    {
     "data": {
      "text/plain": [
       "semi-honest                            94\n",
       "/                                      76\n",
       "semi-honest/third party                24\n",
       "third party                            14\n",
       "malicious/semi-honest                   9\n",
       "semi-honest third party                 5\n",
       "malicious                               5\n",
       "malicious/third party                   2\n",
       "malicious/semi-honest/third party       1\n",
       "semi-honest/semi-honest third party     1\n",
       "Name: User scenario, dtype: int64"
      ]
     },
     "execution_count": 29,
     "metadata": {},
     "output_type": "execute_result"
    }
   ],
   "source": [
    "df['User scenario'].value_counts()"
   ]
  },
  {
   "cell_type": "code",
   "execution_count": 30,
   "metadata": {},
   "outputs": [
    {
     "data": {
      "text/plain": [
       "SMC(Generic construction)                                      67\n",
       "SMC(Building blocks)                                           54\n",
       "data modification                                              29\n",
       "local2center                                                   28\n",
       "SMC(Building blocks)/SMC(Generic construction)                 25\n",
       "others                                                         12\n",
       "data modification/SMC(Building blocks)                          6\n",
       "SMC(Generic construction)/local2center                          4\n",
       "local2center/SMC(Building blocks)/SMC(Generic construction)     3\n",
       "data modification/SMC(Generic construction)                     2\n",
       "local2center/SMC(Building blocks)                               1\n",
       "Name: PP Method Category, dtype: int64"
      ]
     },
     "execution_count": 30,
     "metadata": {},
     "output_type": "execute_result"
    }
   ],
   "source": [
    "df['PP Method Category'].value_counts()"
   ]
  },
  {
   "cell_type": "code",
   "execution_count": 31,
   "metadata": {},
   "outputs": [
    {
     "data": {
      "text/plain": [
       "classification                                    69\n",
       "association rules mining                          54\n",
       "clustering                                        29\n",
       "Generic                                           21\n",
       "regression                                        10\n",
       "/                                                  4\n",
       "Association rules mining                           3\n",
       "classification/clustering                          3\n",
       "Generic                                            3\n",
       "Classification                                     3\n",
       "association rules mining/classification            2\n",
       "outlier detection                                  2\n",
       "sensitive attributes                               1\n",
       "Recommendation system                              1\n",
       "Clustering                                         1\n",
       "Classification, Clustering                         1\n",
       "similarity computation                             1\n",
       "Segmentation                                       1\n",
       "Generic/regression                                 1\n",
       "matrix product                                     1\n",
       "others                                             1\n",
       "clustering/classification                          1\n",
       "probabilistic graph                                1\n",
       "ranking problem                                    1\n",
       "dimension reduction                                1\n",
       "classification/regression/clustering               1\n",
       "top-k queries                                      1\n",
       "clustering(outlier detection)                      1\n",
       "classification/similarity evaluation               1\n",
       "correlation matrix                                 1\n",
       "sub-feature selection                              1\n",
       "Sequential Pattern Mining                          1\n",
       "Record Linkage                                     1\n",
       "NN search                                          1\n",
       "feature selection                                  1\n",
       "Attribute Reduction                                1\n",
       "Collaborative recommendation association rules     1\n",
       "record linkage                                     1\n",
       "Recommendation System                              1\n",
       "classification/regression                          1\n",
       "Name: Problem, dtype: int64"
      ]
     },
     "execution_count": 31,
     "metadata": {},
     "output_type": "execute_result"
    }
   ],
   "source": [
    "# TODO: Needs to be cleaned!\n",
    "df['Problem'].value_counts()"
   ]
  },
  {
   "cell_type": "code",
   "execution_count": 32,
   "metadata": {},
   "outputs": [
    {
     "data": {
      "text/plain": [
       "decision tree                                       22\n",
       "Apriori algorithm/frequent itemset mining           20\n",
       "generic                                             13\n",
       "SVM                                                 10\n",
       "/                                                    9\n",
       "                                                    ..\n",
       "KNN/Jaccard metric                                   1\n",
       "similarity measure/clustering categorical values     1\n",
       "Gaussian mixture model/EM Algorithm                  1\n",
       "classification rule hiding                           1\n",
       "nonlinear learning with kernels,                     1\n",
       "Name: ML Method, Length: 119, dtype: int64"
      ]
     },
     "execution_count": 32,
     "metadata": {},
     "output_type": "execute_result"
    }
   ],
   "source": [
    "df['ML Method'].value_counts()"
   ]
  },
  {
   "cell_type": "code",
   "execution_count": 33,
   "metadata": {},
   "outputs": [
    {
     "data": {
      "text/plain": [
       "no experiment                                                                         82\n",
       "publicly available data                                                               24\n",
       "generated                                                                             21\n",
       "no description                                                                         8\n",
       "real-world data                                                                        8\n",
       "                                                                                      ..\n",
       "public: UCI-Iris-150-5/UCI-Labor-57-16/UCI-Vote-435-17                                 1\n",
       "public: BREAST CANCER DATA (UNIVERSITY OF WISCONSIN)-699/SPAM E-MAIL DATABASE-4601     1\n",
       "public: Belgian retail store/UCI-Adult                                                 1\n",
       "public: IPUMS-USA’s dataset-100000-3                                                   1\n",
       "public: UCI-Diabetes-768-9/UCI-Vote-435-17/UCI-Soybean-683-35                          1\n",
       "Name: Data, Length: 91, dtype: int64"
      ]
     },
     "execution_count": 33,
     "metadata": {},
     "output_type": "execute_result"
    }
   ],
   "source": [
    "df['Data'].value_counts()"
   ]
  },
  {
   "cell_type": "code",
   "execution_count": 34,
   "metadata": {},
   "outputs": [
    {
     "data": {
      "text/plain": [
       "no experiment                                                            82\n",
       "no comparison                                                            66\n",
       "compare with others                                                      34\n",
       "compare with centralized                                                 27\n",
       "compare with centralized/compare with others                              9\n",
       "compare with non-private                                                  4\n",
       "compare with centralized/compare with non-private/compare with others     3\n",
       "compare with centralized/compare with single party analysis               3\n",
       "compare with non-private/compare with others                              2\n",
       "compare with centralized/compare with non-private                         1\n",
       "Name: Accuracy, dtype: int64"
      ]
     },
     "execution_count": 34,
     "metadata": {},
     "output_type": "execute_result"
    }
   ],
   "source": [
    "# Accuracy\tEfficiency\tScalability\n",
    "df['Accuracy'].value_counts()"
   ]
  },
  {
   "cell_type": "code",
   "execution_count": 35,
   "metadata": {},
   "outputs": [
    {
     "data": {
      "text/plain": [
       "no measurement                                       80\n",
       "communication cost/computation cost                  74\n",
       "time cost                                            22\n",
       "communication cost                                   17\n",
       "computation cost                                     10\n",
       "communication cost/time cost                          9\n",
       "computation cost/time cost                            6\n",
       "(weak proof) communication cost                       4\n",
       "Time cost                                             2\n",
       "communication cost/computation cost/storage cost      2\n",
       "time cost/memory cost                                 2\n",
       "data transmission cost                                1\n",
       "communication cost/computation cost/time cost         1\n",
       "communication cost/time cost/complexity analysis/     1\n",
       "Name: Efficiency, dtype: int64"
      ]
     },
     "execution_count": 35,
     "metadata": {},
     "output_type": "execute_result"
    }
   ],
   "source": [
    "df['Efficiency'].value_counts()"
   ]
  },
  {
   "cell_type": "code",
   "execution_count": 36,
   "metadata": {},
   "outputs": [
    {
     "data": {
      "text/plain": [
       "/                                          207\n",
       "Scalability analysis/comparison/measure     24\n",
       "Name: Scalability, dtype: int64"
      ]
     },
     "execution_count": 36,
     "metadata": {},
     "output_type": "execute_result"
    }
   ],
   "source": [
    "df['Scalability'].value_counts()"
   ]
  },
  {
   "cell_type": "code",
   "execution_count": 37,
   "metadata": {},
   "outputs": [
    {
     "name": "stdout",
     "output_type": "stream",
     "text": [
      "                                              DOI  \\\n",
      "67    http://doi.org/10.1016/j.radonc.2016.10.002   \n",
      "85      http://doi.org/10.1016/j.ctro.2016.12.004   \n",
      "193  http://doi.org/10.3233/978-1-61499-852-5-581   \n",
      "213   http://doi.org/10.1016/j.radonc.2019.11.019   \n",
      "223             http://doi.org/10.3233/SHTI190246   \n",
      "\n",
      "                                                Titles  \\\n",
      "67   Distributed learning: Developing a predictive ...   \n",
      "85   Infrastructure and distributed learning method...   \n",
      "193  Using the Personal Health Train for Automated ...   \n",
      "213  Distributed learning on 20 000+lung cancer pat...   \n",
      "223  A Privacy-Preserving Infrastructure for Analyz...   \n",
      "\n",
      "                                               Authors  \\\n",
      "67   Jochems Arthur, Deist Timo M., Van Soest Johan...   \n",
      "85   Deist Timo M, Jochems A, van Soest Johan, Nalb...   \n",
      "193  van Soest J, Sun C, Mussmann O, Puts M, van de...   \n",
      "213  Timo M. Deist, Frank J.W.M. Dankers, Priyanka ...   \n",
      "223  Chang Sun, Lianne Ippel, Johan van Soest, Birg...   \n",
      "\n",
      "                                              Keywords  \\\n",
      "67   Bayesian networks/Distributed learning/Privacy...   \n",
      "85   Distributed learning/Support vector machine/De...   \n",
      "193  Infrastructure/machine learning/data mining/st...   \n",
      "213  Lung cancer\\nBig data, Distributed learning, F...   \n",
      "223  Health Information Systems, Data Science, Mach...   \n",
      "\n",
      "               User scenario Distributed Data scenario  \\\n",
      "67                         /              horizontally   \n",
      "85                         /              horizontally   \n",
      "193              third party                vertically   \n",
      "213                        /              horizontally   \n",
      "223  semi-honest/third party                vertically   \n",
      "\n",
      "                      Privacy/Security  \\\n",
      "67                Very brief statement   \n",
      "85                Very brief statement   \n",
      "193               Very brief statement   \n",
      "213              Not explicitly stated   \n",
      "223  Privacy definition/proof/analysis   \n",
      "\n",
      "                                     Privacy Statement PP Method Category  \\\n",
      "67                           no data leaving data site       local2center   \n",
      "85                           no data leaving data site       local2center   \n",
      "193                         no revealing original data       local2center   \n",
      "213                                                  /       local2center   \n",
      "223  1) it can restrict which data elements are ava...       local2center   \n",
      "\n",
      "                                   PP Specific Methods         Problem  \\\n",
      "67   Local Processing by Data Owners/Processing by ...  classification   \n",
      "85   Local Processing by Data Owners/Processing by ...  classification   \n",
      "193                                    local to center        Generic    \n",
      "213                                                  /  classification   \n",
      "223                                                  /        Generic    \n",
      "\n",
      "               ML Method                     Data                  Accuracy  \\\n",
      "67      bayesian network          real-world data  compare with centralized   \n",
      "85                   SVM          real-world data  compare with centralized   \n",
      "193              generic            no experiment             no experiment   \n",
      "213  logistic regression          real-world data             no comparison   \n",
      "223    Linear regression  publicly available data             no comparison   \n",
      "\n",
      "         Efficiency Scalability  \n",
      "67   no measurement           /  \n",
      "85   no measurement           /  \n",
      "193  no measurement           /  \n",
      "213  no measurement           /  \n",
      "223  no measurement           /  \n"
     ]
    }
   ],
   "source": [
    "print(df.loc[df['Authors'].str.contains(\"Dekker\")])"
   ]
  }
 ],
 "metadata": {
  "interpreter": {
   "hash": "703ac0a88abbd5791e9ef7bbb70dd44cd88451fa6d1f361c8969628c3c992098"
  },
  "kernelspec": {
   "display_name": "Python 3.10.2 ('venv': venv)",
   "language": "python",
   "name": "python3"
  },
  "language_info": {
   "codemirror_mode": {
    "name": "ipython",
    "version": 3
   },
   "file_extension": ".py",
   "mimetype": "text/x-python",
   "name": "python",
   "nbconvert_exporter": "python",
   "pygments_lexer": "ipython3",
   "version": "3.10.2"
  },
  "orig_nbformat": 4
 },
 "nbformat": 4,
 "nbformat_minor": 2
}
